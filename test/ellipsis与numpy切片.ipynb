{
 "cells": [
  {
   "cell_type": "code",
   "execution_count": 1,
   "metadata": {},
   "outputs": [
    {
     "name": "stdout",
     "output_type": "stream",
     "text": [
      "<class 'ellipsis'>\n",
      "True\n",
      "Ellipsis\n"
     ]
    }
   ],
   "source": [
    "print(type(...))\n",
    "print(Ellipsis == ...)\n",
    "print(...)\n"
   ]
  },
  {
   "cell_type": "code",
   "execution_count": null,
   "metadata": {},
   "outputs": [],
   "source": [
    "def fun1(): pass\n",
    "def fun2(): ...\n"
   ]
  },
  {
   "cell_type": "code",
   "execution_count": 2,
   "metadata": {},
   "outputs": [
    {
     "name": "stdout",
     "output_type": "stream",
     "text": [
      "a: [[[ 1  2 21]\n",
      "  [ 3  4 34]]\n",
      "\n",
      " [[ 5  6 56]\n",
      "  [ 7  8 78]]]\n",
      "a.shape: (2, 2, 3)\n",
      "----------\n"
     ]
    }
   ],
   "source": [
    "# %pip install numpy\n",
    "import numpy as np\n",
    "\n",
    "# arr=np.random.random((2,2,2))\n",
    "# print(arr)\n",
    "# print(arr[...,0,0])\n",
    "a = np.array([[[1, 2, 21], [3, 4, 34]],\n",
    "              [[5, 6, 56], [7, 8, 78]]])\n",
    "print(\"a:\", a)\n",
    "print('a.shape:', a.shape)\n",
    "print(\"-\"*10)"
   ]
  },
  {
   "cell_type": "code",
   "execution_count": 23,
   "metadata": {},
   "outputs": [
    {
     "name": "stdout",
     "output_type": "stream",
     "text": [
      "b : [[[1 2]\n",
      "  [3 4]]\n",
      "\n",
      " [[5 6]\n",
      "  [7 8]]]\n",
      "shape.b: (2, 2, 2)\n",
      "----------\n"
     ]
    }
   ],
   "source": [
    "b = a[..., 0:2]\n",
    "# 取最后一个维度下标为0-1的数\n",
    "print('b :', b)\n",
    "print('shape.b:', b.shape)\n",
    "print(\"-\"*10)"
   ]
  },
  {
   "cell_type": "code",
   "execution_count": 34,
   "metadata": {},
   "outputs": [
    {
     "name": "stdout",
     "output_type": "stream",
     "text": [
      "c: [[2 4]\n",
      " [6 8]]\n",
      "c.shape (2, 2)\n",
      "----------\n"
     ]
    }
   ],
   "source": [
    "c = a[..., 1]\n",
    "# 只取axis2 的第 1 号数据\n",
    "print(\"c:\", c)\n",
    "print(\"c.shape\", c.shape)\n",
    "print(\"-\"*10)"
   ]
  },
  {
   "cell_type": "code",
   "execution_count": 35,
   "metadata": {},
   "outputs": [
    {
     "name": "stdout",
     "output_type": "stream",
     "text": [
      "cx: [[21 34]\n",
      " [56 78]]\n",
      "cx.shape (2, 2)\n",
      "----------\n"
     ]
    }
   ],
   "source": [
    "cx = a[...,2]\n",
    "# 只取axis2 =2数据 \n",
    "print(\"cx:\", cx)\n",
    "print(\"cx.shape\", cx.shape)\n",
    "print(\"-\"*10)\n"
   ]
  },
  {
   "cell_type": "code",
   "execution_count": 36,
   "metadata": {},
   "outputs": [
    {
     "name": "stdout",
     "output_type": "stream",
     "text": [
      "cmin: [56 78]\n",
      "cmin.shape (2,)\n",
      "----------\n"
     ]
    }
   ],
   "source": [
    "cmid = a[1,..., 2]\n",
    "# 只取axis0=1 同时 axis2=2 数据\n",
    "print(\"cmid:\", cmid)\n",
    "print(\"cmid.shape\", cmid.shape)\n",
    "print(\"-\"*10)\n"
   ]
  },
  {
   "cell_type": "code",
   "execution_count": 26,
   "metadata": {},
   "outputs": [
    {
     "name": "stdout",
     "output_type": "stream",
     "text": [
      "c1: [[ 5  6 56]\n",
      " [ 7  8 78]]\n",
      "c1.shape (2, 3)\n",
      "----------\n"
     ]
    }
   ],
   "source": [
    "c1 = a[1]\n",
    "# 取0轴 为1的数据\n",
    "print(\"c1:\", c1)\n",
    "print(\"c1.shape\", c1.shape)\n",
    "print(\"-\"*10)\n"
   ]
  },
  {
   "cell_type": "code",
   "execution_count": 27,
   "metadata": {},
   "outputs": [
    {
     "name": "stdout",
     "output_type": "stream",
     "text": [
      "c2: [[ 5  6 56]\n",
      " [ 7  8 78]]\n",
      "c2.shape (2, 3)\n",
      "----------\n"
     ]
    }
   ],
   "source": [
    "c2 = a[-1]\n",
    "# 取0轴 为-1的数据\n",
    "print(\"c2:\", c2)\n",
    "print(\"c2.shape\", c2.shape)\n",
    "print(\"-\"*10)\n",
    "\n"
   ]
  },
  {
   "cell_type": "code",
   "execution_count": 30,
   "metadata": {},
   "outputs": [
    {
     "name": "stdout",
     "output_type": "stream",
     "text": [
      "c3: [[ 1  2 21]\n",
      " [ 3  4 34]]\n",
      "c3.shape (2, 3)\n",
      "----------\n"
     ]
    }
   ],
   "source": [
    "c3 = a[0]\n",
    "# 取0轴 为0的数据\n",
    "print(\"c3:\", c3)\n",
    "print(\"c3.shape\", c3.shape)\n",
    "print(\"-\"*10)\n"
   ]
  },
  {
   "cell_type": "code",
   "execution_count": 31,
   "metadata": {},
   "outputs": [
    {
     "name": "stdout",
     "output_type": "stream",
     "text": [
      "c4: [[ 1  2 21]\n",
      " [ 5  6 56]]\n",
      "c4.shape (2, 3)\n",
      "----------\n"
     ]
    }
   ],
   "source": [
    "c4 = a[:,0,:]\n",
    "# 取1轴 为0的数据\n",
    "print(\"c4:\", c4)\n",
    "print(\"c4.shape\", c4.shape)\n",
    "print(\"-\"*10)\n"
   ]
  },
  {
   "cell_type": "code",
   "execution_count": 28,
   "metadata": {},
   "outputs": [
    {
     "name": "stdout",
     "output_type": "stream",
     "text": [
      "d [[[2]\n",
      "  [4]]\n",
      "\n",
      " [[6]\n",
      "  [8]]]\n",
      "d.shape (2, 2, 1)\n",
      "----------\n"
     ]
    }
   ],
   "source": [
    "d = a[..., 1:2]\n",
    "#取 axis2 为1-2的 数据\n",
    "print(\"d\", d)\n",
    "print(\"d.shape\", d.shape)\n",
    "print(\"-\"*10)\n"
   ]
  },
  {
   "cell_type": "code",
   "execution_count": 4,
   "metadata": {},
   "outputs": [
    {
     "name": "stdout",
     "output_type": "stream",
     "text": [
      "[[1 2]\n",
      " [3 4]\n",
      " [5 6]]\n",
      "[1 4 5]\n"
     ]
    }
   ],
   "source": [
    "x=np.array([[1,2],[3,4],[5,6]])\n",
    "print(x)\n",
    "y = x[[0, 1, 2], [0, 1, 0]]  # 去(0,0),(1,1),(2,0)数据\n",
    "print(y)\n"
   ]
  },
  {
   "cell_type": "code",
   "execution_count": 11,
   "metadata": {},
   "outputs": [
    {
     "name": "stdout",
     "output_type": "stream",
     "text": [
      "len(axis0) 2\n",
      "len(axis1) 2\n",
      "len axis2 3\n",
      "2 2 3\n"
     ]
    }
   ],
   "source": [
    "print(\"len(axis0)\",len(a))\n",
    "print(\"len(axis1)\",len(a[0]))\n",
    "print(\"len axis2\",len(a[0][0]))\n",
    "axis0,axis1,axis2=a.shape\n",
    "print(axis0,axis1,axis2)"
   ]
  },
  {
   "cell_type": "code",
   "execution_count": 19,
   "metadata": {},
   "outputs": [
    {
     "name": "stdout",
     "output_type": "stream",
     "text": [
      "[[7 3 7]\n",
      " [3 6 0]\n",
      " [6 3 8]\n",
      " [3 8 2]]\n"
     ]
    }
   ],
   "source": [
    "arr_43=np.random.randint(0,9,(4,3))\n",
    "print(arr_43)"
   ]
  },
  {
   "cell_type": "code",
   "execution_count": 37,
   "metadata": {},
   "outputs": [
    {
     "name": "stdout",
     "output_type": "stream",
     "text": [
      "[7 7 3 2]\n",
      "56\n"
     ]
    }
   ],
   "source": [
    "axis0, axis1 = arr_43.shape\n",
    "corner4=arr_43[[0,0,axis0-1,axis0-1],[0,axis1-1,0,axis1-1]]\n",
    "print(corner4)\n",
    "arr43=arr_43.sum()\n",
    "print(arr43)"
   ]
  },
  {
   "cell_type": "code",
   "execution_count": 42,
   "metadata": {},
   "outputs": [
    {
     "name": "stdout",
     "output_type": "stream",
     "text": [
      "[[[3 2 8]\n",
      "  [8 8 8]\n",
      "  [4 7 8]\n",
      "  [0 0 2]]\n",
      "\n",
      " [[7 0 4]\n",
      "  [0 6 4]\n",
      "  [0 4 3]\n",
      "  [3 6 0]]]\n"
     ]
    }
   ],
   "source": [
    "arr_243 = np.random.randint(0, 9, (2,4, 3))\n",
    "print(arr_243)\n"
   ]
  },
  {
   "cell_type": "code",
   "execution_count": 48,
   "metadata": {},
   "outputs": [
    {
     "name": "stdout",
     "output_type": "stream",
     "text": [
      "3.9583333333333335\n",
      "[[5.  1.  6. ]\n",
      " [4.  7.  6. ]\n",
      " [2.  5.5 5.5]\n",
      " [1.5 3.  1. ]]\n",
      "[[3.75 4.25 6.5 ]\n",
      " [2.5  4.   2.75]]\n",
      "[[4.33333333 8.         6.33333333 0.66666667]\n",
      " [3.66666667 3.33333333 2.33333333 3.        ]]\n"
     ]
    }
   ],
   "source": [
    "print(arr_243.mean())\n",
    "print(arr_243.mean(axis=0))\n",
    "print(arr_243.mean(axis=1))\n",
    "print(arr_243.mean(axis=2))\n"
   ]
  }
 ],
 "metadata": {
  "kernelspec": {
   "display_name": "Python 3.9.2 ('jupytervenv': venv)",
   "language": "python",
   "name": "python3"
  },
  "language_info": {
   "codemirror_mode": {
    "name": "ipython",
    "version": 3
   },
   "file_extension": ".py",
   "mimetype": "text/x-python",
   "name": "python",
   "nbconvert_exporter": "python",
   "pygments_lexer": "ipython3",
   "version": "3.9.2"
  },
  "orig_nbformat": 4,
  "vscode": {
   "interpreter": {
    "hash": "2524cb38d6a39d30753f11303032d028d65eebf8bc647543180e31953f541e76"
   }
  }
 },
 "nbformat": 4,
 "nbformat_minor": 2
}
