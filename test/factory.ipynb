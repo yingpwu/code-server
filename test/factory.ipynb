{
 "cells": [
  {
   "cell_type": "code",
   "execution_count": 1,
   "metadata": {},
   "outputs": [
    {
     "name": "stdout",
     "output_type": "stream",
     "text": [
      "Writing player.py\n"
     ]
    }
   ],
   "source": [
    "%%file player.py\n",
    "from abc import abstractmethod,ABC\n",
    "\n",
    "class Player(ABC):\n",
    "    def __init__(self,name,role):\n",
    "        self.name=name\n",
    "        self.role=role\n",
    "\n",
    "\n",
    "    def action(self):\n",
    "        '''球员的动作'''\n",
    "\n",
    "    def __str__(self):\n",
    "        return f'name={self.name}'\n"
   ]
  }
 ],
 "metadata": {
  "kernelspec": {
   "display_name": "Python 3.9.2 ('jupytervenv': venv)",
   "language": "python",
   "name": "python3"
  },
  "language_info": {
   "codemirror_mode": {
    "name": "ipython",
    "version": 3
   },
   "file_extension": ".py",
   "mimetype": "text/x-python",
   "name": "python",
   "nbconvert_exporter": "python",
   "pygments_lexer": "ipython3",
   "version": "3.9.2"
  },
  "orig_nbformat": 4,
  "vscode": {
   "interpreter": {
    "hash": "2524cb38d6a39d30753f11303032d028d65eebf8bc647543180e31953f541e76"
   }
  }
 },
 "nbformat": 4,
 "nbformat_minor": 2
}
