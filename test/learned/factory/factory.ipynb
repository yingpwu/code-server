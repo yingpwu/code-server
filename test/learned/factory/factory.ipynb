{
 "cells": [
  {
   "cell_type": "code",
   "execution_count": 8,
   "metadata": {},
   "outputs": [
    {
     "name": "stdout",
     "output_type": "stream",
     "text": [
      "Overwriting player.py\n"
     ]
    }
   ],
   "source": [
    "%%file player.py\n",
    "from abc import ABC\n",
    "\n",
    "class Player(ABC):\n",
    "    def __init__(self,name,role):\n",
    "        self.name=name\n",
    "        self.role=role\n",
    "    \n",
    "    def action(self):\n",
    "        '''球员动作'''\n",
    "    \n",
    "    def __str__(self):\n",
    "        return f'name={self.name} role={self.role}'\n",
    "\n",
    "class Forward(Player):\n",
    "    def action(self):\n",
    "        print(f\"前锋,{self.name}带球过人\")\n",
    "\n",
    "class MiddleFiled(Player):\n",
    "    def action(self):\n",
    "        print(f\"中场,{self.name} 精通传球\")\n",
    "\n",
    "class DefendShield(Player):\n",
    "    def action(self):\n",
    "        print(f\"守门员,{self.name}强悍防卫\")\n",
    "\n",
    "class GoalKeeper(Player):\n",
    "    def action(self):\n",
    "        print(f\"射手,{self.name}抵挡射门\")\n"
   ]
  },
  {
   "cell_type": "code",
   "execution_count": 2,
   "metadata": {},
   "outputs": [
    {
     "name": "stdout",
     "output_type": "stream",
     "text": [
      "Overwriting factory.py\n"
     ]
    }
   ],
   "source": [
    "%%file factory.py\n",
    "from typing import Callable,Any\n",
    "from player import Player\n",
    "\n",
    "players_and_function : dict[str,Callable[...,Player]]={}\n",
    "\n",
    "def register(role:str,function_name:Callable[...,Player]) -> None:\n",
    "    players_and_function[role]=function_name\n",
    "\n",
    "def unregister(role:str)->None:\n",
    "    players_and_function.pop(role,None)\n",
    "\n",
    "def create(args:dict[str,Any])->Player:\n",
    "    the_args=args.copy()\n",
    "    role=the_args[\"role\"]\n",
    "    \n",
    "    try:\n",
    "        function_name=players_and_function[role]\n",
    "        return function_name(**the_args)\n",
    "    except KeyError:\n",
    "        raise ValueError(f'未知角色{role}') from None"
   ]
  },
  {
   "cell_type": "code",
   "execution_count": 6,
   "metadata": {},
   "outputs": [
    {
     "name": "stdout",
     "output_type": "stream",
     "text": [
      "Overwriting players.json\n"
     ]
    }
   ],
   "source": [
    "%%file players.json\n",
    "{\n",
    "    \"players\": [\n",
    "        {\n",
    "            \"name\": \"Eric Cantona\",\n",
    "            \"role\": \"FW\"\n",
    "        }, {\n",
    "            \"name\": \"David Beckham\",\n",
    "            \"role\": \"MF\"\n",
    "        }, {\n",
    "            \"name\": \"Steve Bruce\",\n",
    "            \"role\": \"DF\"\n",
    "        }, {\n",
    "            \"name\": \"Roser\",\n",
    "            \"role\": \"GK\"\n",
    "        }\n",
    "    ]\n",
    "}\n"
   ]
  },
  {
   "cell_type": "code",
   "execution_count": 5,
   "metadata": {},
   "outputs": [
    {
     "name": "stdout",
     "output_type": "stream",
     "text": [
      "前锋,Eric Cantona带球过人\n",
      "中场,David Beckham 精通传球\n",
      "守门员,Steve Bruce强悍防卫\n",
      "射手,Roser抵挡射门\n"
     ]
    }
   ],
   "source": [
    "from player import Forward,MiddleFiled,DefendShield,GoalKeeper\n",
    "import json\n",
    "from factory import register,unregister,create\n",
    "def load_json():\n",
    "    with open('players.json','r')as f:\n",
    "        return json.load(f)\n",
    "def main():\n",
    "    register(\"FW\",Forward)\n",
    "    register(\"MF\",MiddleFiled)\n",
    "    register(\"DF\",DefendShield)\n",
    "    register(\"GK\",GoalKeeper)\n",
    "    data = load_json()\n",
    "\n",
    "    for player in data[\"players\"]:\n",
    "        Player=create(player)\n",
    "        Player.action() \n",
    "\n",
    "if __name__==\"__main__\":\n",
    "    main()\n"
   ]
  }
 ],
 "metadata": {
  "kernelspec": {
   "display_name": "Python 3.9.2 ('jupytervenv': venv)",
   "language": "python",
   "name": "python3"
  },
  "language_info": {
   "codemirror_mode": {
    "name": "ipython",
    "version": 3
   },
   "file_extension": ".py",
   "mimetype": "text/x-python",
   "name": "python",
   "nbconvert_exporter": "python",
   "pygments_lexer": "ipython3",
   "version": "3.9.2"
  },
  "orig_nbformat": 4,
  "vscode": {
   "interpreter": {
    "hash": "2524cb38d6a39d30753f11303032d028d65eebf8bc647543180e31953f541e76"
   }
  }
 },
 "nbformat": 4,
 "nbformat_minor": 2
}
