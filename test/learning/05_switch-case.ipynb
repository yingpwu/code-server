{
 "cells": [
  {
   "cell_type": "code",
   "execution_count": 3,
   "metadata": {},
   "outputs": [
    {
     "name": "stdout",
     "output_type": "stream",
     "text": [
      "14\n",
      "-4\n",
      "0.5555555555555556\n",
      "45\n"
     ]
    }
   ],
   "source": [
    "def calculater(var1,var2,operator):\n",
    "    if operator == '+':\n",
    "        return var1+var2\n",
    "    if operator == '-':\n",
    "        return var1-var2\n",
    "    if operator == '/':\n",
    "        return var1/var2\n",
    "    if operator == '*':\n",
    "        return var1*var2\n",
    "\n",
    "print(calculater(5,9,'+'))\n",
    "print(calculater(5,9,'-'))\n",
    "print(calculater(5,9,'/'))\n",
    "print(calculater(5,9,'*'))"
   ]
  },
  {
   "cell_type": "code",
   "execution_count": 4,
   "metadata": {},
   "outputs": [
    {
     "name": "stdout",
     "output_type": "stream",
     "text": [
      "14\n",
      "-4\n",
      "0.5555555555555556\n",
      "45\n"
     ]
    }
   ],
   "source": [
    "import operator as op\n",
    "# Pythonic\n",
    "def calculate(var1,var2,operator):\n",
    "    operator_dict={\n",
    "        '+':op.add,\n",
    "        '-':op.sub,\n",
    "        '*':op.mul,\n",
    "        '/':op.truediv\n",
    "    }\n",
    "    return operator_dict[operator](var1,var2)\n",
    "\n",
    "print(calculate(5,9,'+'))\n",
    "print(calculate(5,9,'-'))\n",
    "print(calculate(5,9,'/'))\n",
    "print(calculate(5,9,'*'))"
   ]
  },
  {
   "cell_type": "code",
   "execution_count": null,
   "metadata": {},
   "outputs": [],
   "source": [
    "%%file python3.10_switch_case_useage.py\n",
    "# docker run -it --rm python:3.10-slim-buster bash\n",
    "# 快速运行一个python3.10 docker\n",
    "def http_error(status_code:int)->str:\n",
    "    match status_code:\n",
    "        case 400:\n",
    "            return \"Bad request\"\n",
    "        case 404:\n",
    "            return \"Not found\"\n",
    "        case 418:\n",
    "            return \"I'm a teapot\"\n",
    "        case _:\n",
    "            return \"Something's wrong the internet\"\n",
    "http_error(404)"
   ]
  }
 ],
 "metadata": {
  "kernelspec": {
   "display_name": "Python 3.9.2 ('jupytervenv': venv)",
   "language": "python",
   "name": "python3"
  },
  "language_info": {
   "codemirror_mode": {
    "name": "ipython",
    "version": 3
   },
   "file_extension": ".py",
   "mimetype": "text/x-python",
   "name": "python",
   "nbconvert_exporter": "python",
   "pygments_lexer": "ipython3",
   "version": "3.9.2"
  },
  "orig_nbformat": 4,
  "vscode": {
   "interpreter": {
    "hash": "2524cb38d6a39d30753f11303032d028d65eebf8bc647543180e31953f541e76"
   }
  }
 },
 "nbformat": 4,
 "nbformat_minor": 2
}
