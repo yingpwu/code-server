{
 "cells": [
  {
   "cell_type": "code",
   "execution_count": 1,
   "metadata": {},
   "outputs": [
    {
     "name": "stdout",
     "output_type": "stream",
     "text": [
      "CPU times: user 28 µs, sys: 5 µs, total: 33 µs\n",
      "Wall time: 37.7 µs\n"
     ]
    },
    {
     "data": {
      "text/plain": [
       "3"
      ]
     },
     "execution_count": 1,
     "metadata": {},
     "output_type": "execute_result"
    }
   ],
   "source": [
    "%%time\n",
    "list_a = [1, 5, 2, 4, 3]\n",
    "## 动态规划问题\n",
    "## https://www.bilibili.com/video/BV1AB4y1w7eT/?spm_id_from=333.337.search-card.all.click&vd_source=bcff4b2a8949cb34f2e4e0352f47cdc2\n",
    "\n",
    "\n",
    "def longest(nums, i):\n",
    "    max_len = 1\n",
    "    for j in range(i+1, len(nums)):\n",
    "        if nums[j] > nums[i]:\n",
    "            max_len = max(max_len, longest(nums, j)+1)\n",
    "    return max_len\n",
    "\n",
    "\n",
    "def longest_increasing_subsequence(nums):\n",
    "    return max(longest(nums, i) for i in range(len(nums)))\n",
    "\n",
    "\n",
    "# longest(list_a, 0)\n",
    "longest_increasing_subsequence(list_a)\n"
   ]
  }
 ],
 "metadata": {
  "kernelspec": {
   "display_name": "Python 3.9.2 ('jupytervenv': venv)",
   "language": "python",
   "name": "python3"
  },
  "language_info": {
   "codemirror_mode": {
    "name": "ipython",
    "version": 3
   },
   "file_extension": ".py",
   "mimetype": "text/x-python",
   "name": "python",
   "nbconvert_exporter": "python",
   "pygments_lexer": "ipython3",
   "version": "3.9.2"
  },
  "orig_nbformat": 4,
  "vscode": {
   "interpreter": {
    "hash": "2524cb38d6a39d30753f11303032d028d65eebf8bc647543180e31953f541e76"
   }
  }
 },
 "nbformat": 4,
 "nbformat_minor": 2
}
