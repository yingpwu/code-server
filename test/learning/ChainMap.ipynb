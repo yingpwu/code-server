{
 "cells": [
  {
   "cell_type": "code",
   "execution_count": 7,
   "metadata": {},
   "outputs": [
    {
     "data": {
      "text/plain": [
       "ChainMap({'soccer': 100, 'basketball': 200, 'vollyball': 300}, {'tennis': 400, 'golf': 500, 'soccer': 400})"
      ]
     },
     "execution_count": 7,
     "metadata": {},
     "output_type": "execute_result"
    }
   ],
   "source": [
    "from collections import ChainMap\n",
    "\n",
    "m1={'soccer':100,'basketball':200,'vollyball':300}\n",
    "m2={'tennis':400,'golf':500,'soccer':400}\n",
    "cmap=ChainMap(m1,m2)\n",
    "# 合并字典\n",
    "cmap"
   ]
  },
  {
   "cell_type": "code",
   "execution_count": 8,
   "metadata": {},
   "outputs": [
    {
     "data": {
      "text/plain": [
       "ChainMap({'basketball': 200, 'vollyball': 300}, {'tennis': 400, 'golf': 500, 'soccer': 400})"
      ]
     },
     "execution_count": 8,
     "metadata": {},
     "output_type": "execute_result"
    }
   ],
   "source": [
    "\n",
    "del cmap['soccer']\n",
    "cmap.pop('soccer', None)\n",
    "# pop 和 del 都可以删除\n",
    "# 增删改都是对左边的dict 操作\n",
    "cmap\n"
   ]
  },
  {
   "cell_type": "code",
   "execution_count": 6,
   "metadata": {},
   "outputs": [
    {
     "data": {
      "text/plain": [
       "400"
      ]
     },
     "execution_count": 6,
     "metadata": {},
     "output_type": "execute_result"
    }
   ],
   "source": [
    "cmap['pingpong']=200\n",
    "\n",
    "cmap['soccer']\n",
    "\n"
   ]
  },
  {
   "cell_type": "code",
   "execution_count": 9,
   "metadata": {},
   "outputs": [],
   "source": [
    "# 合并字典2\n",
    "\n",
    "fruit_price_map_gz={'apple':10.5,'orange':8.8}\n",
    "fruit_price_map_sh={'banana':2.8,'orange':9.5}"
   ]
  },
  {
   "cell_type": "code",
   "execution_count": 19,
   "metadata": {},
   "outputs": [
    {
     "name": "stdout",
     "output_type": "stream",
     "text": [
      "{'apple': 10.5, 'orange': 9.5, 'banana': 2.8}\n"
     ]
    },
    {
     "data": {
      "text/plain": [
       "{'banana': 2.8, 'orange': 9.5, 'apple': 10.5}"
      ]
     },
     "execution_count": 19,
     "metadata": {},
     "output_type": "execute_result"
    }
   ],
   "source": [
    "merged_price_map={}\n",
    "merged_price_map.update(fruit_price_map_gz)\n",
    "merged_price_map.update(fruit_price_map_sh)\n",
    "print(merged_price_map)\n",
    "sorted_list=sorted(merged_price_map.items(),key=lambda x:x[1],reverse=False)\n",
    "sorted_dict={x[0]:x[1] for x in sorted_list}\n",
    "sorted_dict"
   ]
  },
  {
   "cell_type": "code",
   "execution_count": null,
   "metadata": {},
   "outputs": [],
   "source": [
    "merged_price_map2=dict(fruit_price_map_gz,**fruit_price_map_sh)\n",
    "merged_price_map3={**fruit_price_map_gz,\n",
    "                    **fruit_price_map_sh\n",
    "                    }\n",
    "# ** 字典这种方式合并 更为高效"
   ]
  }
 ],
 "metadata": {
  "kernelspec": {
   "display_name": "Python 3.9.2 ('jupytervenv': venv)",
   "language": "python",
   "name": "python3"
  },
  "language_info": {
   "codemirror_mode": {
    "name": "ipython",
    "version": 3
   },
   "file_extension": ".py",
   "mimetype": "text/x-python",
   "name": "python",
   "nbconvert_exporter": "python",
   "pygments_lexer": "ipython3",
   "version": "3.9.2"
  },
  "orig_nbformat": 4,
  "vscode": {
   "interpreter": {
    "hash": "2524cb38d6a39d30753f11303032d028d65eebf8bc647543180e31953f541e76"
   }
  }
 },
 "nbformat": 4,
 "nbformat_minor": 2
}
