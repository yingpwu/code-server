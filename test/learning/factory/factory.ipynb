{
 "cells": [
  {
   "cell_type": "code",
   "execution_count": 1,
   "metadata": {},
   "outputs": [
    {
     "name": "stdout",
     "output_type": "stream",
     "text": [
      "Overwriting player.py\n"
     ]
    }
   ],
   "source": [
    "%%file player.py\n",
    "from abc import abstractmethod,ABC\n",
    "\n",
    "class Player(ABC):\n",
    "    def __init__(self,name,role):\n",
    "        self.name=name\n",
    "        self.role=role\n",
    "\n",
    "    @abstractmethod\n",
    "    def action(self):\n",
    "        '''球员的动作'''\n",
    "\n",
    "    def __str__(self):\n",
    "        return f'name={self.name}, role={self.role}'\n",
    "\n",
    "class Forward(Player):\n",
    "    def action(self):\n",
    "        print(f'{self.name} 带球突破,过了后卫,凌空抽射!')\n",
    "\n",
    "\n",
    "class MiddleFielf(Player):\n",
    "    def action(self):\n",
    "        print(f'{self.name} 控球在脚,假动作晃过对方10号,精准长传')\n",
    "\n",
    "\n",
    "class DefenseField(Player):\n",
    "    def action(self):\n",
    "        print(f'{self.name} 用强悍的神曲,挡住对方的进攻')\n",
    "\n",
    "\n",
    "class GoalKeeper(Player):\n",
    "    def action(self):\n",
    "        print(f'{self.name} 接住对方的射门')"
   ]
  },
  {
   "cell_type": "code",
   "execution_count": 2,
   "metadata": {},
   "outputs": [
    {
     "name": "stdout",
     "output_type": "stream",
     "text": [
      "{'name': 'Eric Cantona', 'role': 'FW'}\n",
      "name=Eric Cantona, role=FW\n",
      "Eric Cantona 带球突破,过了后卫,凌空抽射!\n",
      "name=David Beckham, role=MF\n",
      "David Beckham 控球在脚,假动作晃过对方10号,精准长传\n",
      "name=Steve Bruce, role=DF\n",
      "Steve Bruce 用强悍的神曲,挡住对方的进攻\n"
     ]
    }
   ],
   "source": [
    "# %%file factory_old.py\n",
    "from player import Player,Forward,MiddleFielf,DefenseField\n",
    "\n",
    "def main():\n",
    "    data={\n",
    "        \"players\":[\n",
    "            {\n",
    "                \"name\":\"Eric Cantona\",\n",
    "                \"role\":\"FW\"\n",
    "            },{\n",
    "                \"name\":\"David Beckham\",\n",
    "                \"role\":\"MF\"\n",
    "            },{\n",
    "                \"name\":\"Steve Bruce\",\n",
    "                \"role\":\"DF\"\n",
    "            }\n",
    "        ]\n",
    "    }\n",
    "    players=[]\n",
    "    for player in data[\"players\"]:\n",
    "        role=player[\"role\"]\n",
    "        if role == \"FW\":\n",
    "            players.append(Forward(**player))\n",
    "            print(dict(**player))\n",
    "        elif role == \"MF\":\n",
    "            players.append(MiddleFielf(**player))\n",
    "        elif role == \"DF\":\n",
    "            players.append(DefenseField(**player))\n",
    "    \n",
    "    for player in players:\n",
    "        print(player)\n",
    "        player.action()\n",
    "\n",
    "if __name__=='__main__':\n",
    "    main()"
   ]
  },
  {
   "cell_type": "code",
   "execution_count": null,
   "metadata": {},
   "outputs": [],
   "source": []
  },
  {
   "cell_type": "code",
   "execution_count": 2,
   "metadata": {},
   "outputs": [
    {
     "name": "stdout",
     "output_type": "stream",
     "text": [
      "Overwriting factory.py\n"
     ]
    }
   ],
   "source": [
    "%%file factory.py\n",
    "from typing import Callable,Any\n",
    "from player import Player\n",
    "\n",
    "player_creation_function : dict[str,Callable[...,Player]]={}\n",
    "# ... 代表不清楚 可以是任意\n",
    "def register(role:str,creation_function:Callable[...,Player]) ->None:\n",
    "    player_creation_function[role]=creation_function\n",
    "\n",
    "def unregister(role:str)->None:\n",
    "    player_creation_function.pop(role,None)\n",
    "    # pop 不存在role时候用none\n",
    "    \n",
    "def create(args:dict[str,Any])->Player:\n",
    "    the_args=args.copy()\n",
    "    role=the_args['role']\n",
    "\n",
    "    try:\n",
    "        create_function=player_creation_function[role]\n",
    "        return create_function(**the_args)\n",
    "\n",
    "    except KeyError:\n",
    "        raise ValueError(f\"未知角色 {role!r}\")  from None\n",
    "        "
   ]
  },
  {
   "cell_type": "code",
   "execution_count": 3,
   "metadata": {},
   "outputs": [
    {
     "name": "stdout",
     "output_type": "stream",
     "text": [
      "name=Eric Cantona, role=FW\n",
      "Eric Cantona 带球突破,过了后卫,凌空抽射!\n",
      "name=David Beckham, role=MF\n",
      "David Beckham 控球在脚,假动作晃过对方10号,精准长传\n",
      "name=Steve Bruce, role=DF\n",
      "Steve Bruce 用强悍的神曲,挡住对方的进攻\n",
      "name=Roser, role=GK\n",
      "Roser 接住对方的射门\n"
     ]
    }
   ],
   "source": [
    "import json\n",
    "from player import Player, Forward, MiddleFielf, DefenseField, GoalKeeper\n",
    "from factory import register,unregister,create\n",
    "\n",
    "def load_player_from_json_file():\n",
    "    with open('player.json','r')as f:\n",
    "        return json.load(f)\n",
    "\n",
    "def main():\n",
    "    data=load_player_from_json_file()\n",
    "    register('FW',Forward)\n",
    "    register('MF',MiddleFielf)\n",
    "    register('DF',DefenseField)\n",
    "    register('GK', GoalKeeper)\n",
    "    \n",
    "    for args in data[\"players\"]:\n",
    "        player=create(args)\n",
    "        print(player)\n",
    "        player.action()\n",
    "\n",
    "if __name__=='__main__':\n",
    "    main()\n"
   ]
  },
  {
   "cell_type": "code",
   "execution_count": 22,
   "metadata": {},
   "outputs": [
    {
     "name": "stdout",
     "output_type": "stream",
     "text": [
      "Overwriting player.json\n"
     ]
    }
   ],
   "source": [
    "%%file player.json\n",
    "{\n",
    "    \"players\": [\n",
    "        {\n",
    "            \"name\": \"Eric Cantona\",\n",
    "            \"role\": \"FW\"\n",
    "        }, {\n",
    "            \"name\": \"David Beckham\",\n",
    "            \"role\": \"MF\"\n",
    "        }, {\n",
    "            \"name\": \"Steve Bruce\",\n",
    "            \"role\": \"DF\"\n",
    "        },{\n",
    "            \"name\":\"Roser\",\n",
    "            \"role\":\"GK\"\n",
    "        }\n",
    "    ]\n",
    "}\n"
   ]
  }
 ],
 "metadata": {
  "kernelspec": {
   "display_name": "Python 3.9.2 ('jupytervenv': venv)",
   "language": "python",
   "name": "python3"
  },
  "language_info": {
   "codemirror_mode": {
    "name": "ipython",
    "version": 3
   },
   "file_extension": ".py",
   "mimetype": "text/x-python",
   "name": "python",
   "nbconvert_exporter": "python",
   "pygments_lexer": "ipython3",
   "version": "3.9.2"
  },
  "orig_nbformat": 4,
  "vscode": {
   "interpreter": {
    "hash": "2524cb38d6a39d30753f11303032d028d65eebf8bc647543180e31953f541e76"
   }
  }
 },
 "nbformat": 4,
 "nbformat_minor": 2
}
