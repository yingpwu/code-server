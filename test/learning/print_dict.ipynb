{
 "cells": [
  {
   "cell_type": "code",
   "execution_count": 2,
   "metadata": {},
   "outputs": [],
   "source": [
    "book_detail={\n",
    "    \"name\":\"python游戏编程\",\n",
    "    \"author\":\"Bobby\",\n",
    "    \"stars\":5,\n",
    "    \"publish_at\":\"2022-06-10\",\n",
    "    \"info\":{\n",
    "        \"alias\":\"Python game programming\",\n",
    "        \"user\":1000\n",
    "    }\n",
    "}"
   ]
  },
  {
   "cell_type": "code",
   "execution_count": 7,
   "metadata": {},
   "outputs": [
    {
     "name": "stdout",
     "output_type": "stream",
     "text": [
      "{   'name': 'python游戏编程',\n",
      "    'author': 'Bobby',\n",
      "    'stars': 5,\n",
      "    'publish_at': '2022-06-10',\n",
      "    'info': {...}}\n"
     ]
    }
   ],
   "source": [
    "from pprint import pprint\n",
    "pprint(book_detail,indent=4,sort_dicts=False,depth=1)"
   ]
  },
  {
   "cell_type": "code",
   "execution_count": 12,
   "metadata": {},
   "outputs": [
    {
     "name": "stdout",
     "output_type": "stream",
     "text": [
      "{\n",
      "    \"name\": \"python游戏编程\",\n",
      "    \"author\": \"Bobby\",\n",
      "    \"stars\": 5,\n",
      "    \"publish_at\": \"2022-06-10\",\n",
      "    \"info\": {\n",
      "        \"alias\": \"Python game programming\",\n",
      "        \"user\": 1000\n",
      "    }\n",
      "}\n"
     ]
    }
   ],
   "source": [
    "import json\n",
    "print(json.dumps(book_detail,ensure_ascii=False,indent=4))"
   ]
  },
  {
   "cell_type": "code",
   "execution_count": 13,
   "metadata": {},
   "outputs": [
    {
     "name": "stdout",
     "output_type": "stream",
     "text": [
      "Looking in indexes: https://repo.huaweicloud.com/repository/pypi/simple\n",
      "Collecting pyyaml\n",
      "  Downloading https://repo.huaweicloud.com/repository/pypi/packages/12/fc/a4d5a7554e0067677823f7265cb3ae22aed8a238560b5133b58cda252dad/PyYAML-6.0-cp39-cp39-manylinux_2_5_x86_64.manylinux1_x86_64.manylinux_2_12_x86_64.manylinux2010_x86_64.whl (661 kB)\n",
      "\u001b[K     |████████████████████████████████| 661 kB 21.1 MB/s eta 0:00:01\n",
      "\u001b[?25hInstalling collected packages: pyyaml\n",
      "Successfully installed pyyaml-6.0\n",
      "Note: you may need to restart the kernel to use updated packages.\n"
     ]
    }
   ],
   "source": [
    "%pip install pyyaml\n",
    "# 直接安装模块"
   ]
  },
  {
   "cell_type": "code",
   "execution_count": 14,
   "metadata": {},
   "outputs": [
    {
     "name": "stdout",
     "output_type": "stream",
     "text": [
      "author: Bobby\n",
      "info:\n",
      "    alias: Python game programming\n",
      "    user: 1000\n",
      "name: python游戏编程\n",
      "publish_at: '2022-06-10'\n",
      "stars: 5\n",
      "\n"
     ]
    }
   ],
   "source": [
    "import yaml\n",
    "print(yaml.dump(book_detail,indent=4,allow_unicode=True))\n"
   ]
  }
 ],
 "metadata": {
  "kernelspec": {
   "display_name": "Python 3.9.2 ('jupytervenv': venv)",
   "language": "python",
   "name": "python3"
  },
  "language_info": {
   "codemirror_mode": {
    "name": "ipython",
    "version": 3
   },
   "file_extension": ".py",
   "mimetype": "text/x-python",
   "name": "python",
   "nbconvert_exporter": "python",
   "pygments_lexer": "ipython3",
   "version": "3.9.2"
  },
  "orig_nbformat": 4,
  "vscode": {
   "interpreter": {
    "hash": "2524cb38d6a39d30753f11303032d028d65eebf8bc647543180e31953f541e76"
   }
  }
 },
 "nbformat": 4,
 "nbformat_minor": 2
}
