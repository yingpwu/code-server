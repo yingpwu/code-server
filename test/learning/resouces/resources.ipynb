{
 "cells": [
  {
   "cell_type": "code",
   "execution_count": 12,
   "metadata": {},
   "outputs": [
    {
     "name": "stdout",
     "output_type": "stream",
     "text": [
      "None\n"
     ]
    }
   ],
   "source": [
    "import sys\n",
    "sys.path +=['./demoresouce']\n",
    "# print(sys.path)\n",
    "# print(sys.__spec__)\n",
    "a=\"test\"\n",
    "# print(a.__spec__)\n",
    "def b():...\n",
    "# print(b.__spec__)\n",
    "class c(): ...\n",
    "# print(c.__spec__)\n",
    "import demoresouces.text as tx\n",
    "print(demoresouces.text.__spec__.origin)\n",
    "# print(dir())\n",
    "# print(__spec__)\n",
    "# dir(sys)"
   ]
  },
  {
   "cell_type": "code",
   "execution_count": 13,
   "metadata": {},
   "outputs": [
    {
     "name": "stdout",
     "output_type": "stream",
     "text": [
      "this is file.txt\n",
      "========================================\n",
      "this is package.txt\n",
      "========================================\n",
      "this is resouce.txt\n",
      "\n"
     ]
    }
   ],
   "source": [
    "from importlib import resources\n",
    "\n",
    "def read(name:str)->str:\n",
    "    with resources.open_text('demoresouces.text',f'{name}.txt') as f:\n",
    "        return f.read()\n",
    "\n",
    "print(read(\"file\"))\n",
    "print(\"=\"*40)\n",
    "print(read(\"package\"))\n",
    "print(\"=\"*40)\n",
    "print(read('resouce'))\n",
    "\n"
   ]
  },
  {
   "cell_type": "code",
   "execution_count": 14,
   "metadata": {},
   "outputs": [
    {
     "ename": "FileNotFoundError",
     "evalue": "'zipcode.csv' resource not found in 'demoresouces.data'",
     "output_type": "error",
     "traceback": [
      "\u001b[0;31m---------------------------------------------------------------------------\u001b[0m",
      "\u001b[0;31mFileNotFoundError\u001b[0m                         Traceback (most recent call last)",
      "File \u001b[0;32m/usr/lib/python3.9/importlib/resources.py:97\u001b[0m, in \u001b[0;36mopen_binary\u001b[0;34m(package, resource)\u001b[0m\n\u001b[1;32m     96\u001b[0m \u001b[39mtry\u001b[39;00m:\n\u001b[0;32m---> 97\u001b[0m     \u001b[39mreturn\u001b[39;00m \u001b[39mopen\u001b[39;49m(full_path, mode\u001b[39m=\u001b[39;49m\u001b[39m'\u001b[39;49m\u001b[39mrb\u001b[39;49m\u001b[39m'\u001b[39;49m)\n\u001b[1;32m     98\u001b[0m \u001b[39mexcept\u001b[39;00m \u001b[39mOSError\u001b[39;00m:\n\u001b[1;32m     99\u001b[0m     \u001b[39m# Just assume the loader is a resource loader; all the relevant\u001b[39;00m\n\u001b[1;32m    100\u001b[0m     \u001b[39m# importlib.machinery loaders are and an AttributeError for\u001b[39;00m\n\u001b[1;32m    101\u001b[0m     \u001b[39m# get_data() will make it clear what is needed from the loader.\u001b[39;00m\n",
      "\u001b[0;31mFileNotFoundError\u001b[0m: [Errno 2] No such file or directory: '/root/project/python/test/learning/resouces/zipcode.csv'",
      "\nDuring handling of the above exception, another exception occurred:\n",
      "\u001b[0;31mFileNotFoundError\u001b[0m                         Traceback (most recent call last)",
      "Cell \u001b[0;32mIn [14], line 14\u001b[0m\n\u001b[1;32m     11\u001b[0m                 \u001b[39mreturn\u001b[39;00m row[\u001b[39m'\u001b[39m\u001b[39mzipcode\u001b[39m\u001b[39m'\u001b[39m]\n\u001b[1;32m     12\u001b[0m         \u001b[39mraise\u001b[39;00m NotFoundZipcode(\u001b[39mf\u001b[39m\u001b[39m'\u001b[39m\u001b[39m{\u001b[39;00mcity\u001b[39m}\u001b[39;00m\u001b[39m的邮政编码不存在!\u001b[39m\u001b[39m'\u001b[39m)\n\u001b[0;32m---> 14\u001b[0m \u001b[39mprint\u001b[39m(get_zipcode(\u001b[39m\"\u001b[39;49m\u001b[39m北京\u001b[39;49m\u001b[39m\"\u001b[39;49m))\n\u001b[1;32m     15\u001b[0m \u001b[39mprint\u001b[39m(get_zipcode(\u001b[39m\"\u001b[39m\u001b[39m上海\u001b[39m\u001b[39m\"\u001b[39m))\n\u001b[1;32m     16\u001b[0m \u001b[39mprint\u001b[39m(get_zipcode(\u001b[39m\"\u001b[39m\u001b[39m大连\u001b[39m\u001b[39m\"\u001b[39m))\n",
      "Cell \u001b[0;32mIn [14], line 6\u001b[0m, in \u001b[0;36mget_zipcode\u001b[0;34m(city)\u001b[0m\n\u001b[1;32m      5\u001b[0m \u001b[39mdef\u001b[39;00m \u001b[39mget_zipcode\u001b[39m(city:\u001b[39mstr\u001b[39m)\u001b[39m-\u001b[39m\u001b[39m>\u001b[39m\u001b[39mstr\u001b[39m:\n\u001b[0;32m----> 6\u001b[0m     \u001b[39mwith\u001b[39;00m resources\u001b[39m.\u001b[39;49mopen_text(\u001b[39m'\u001b[39;49m\u001b[39mdemoresouces.data\u001b[39;49m\u001b[39m'\u001b[39;49m,\u001b[39m'\u001b[39;49m\u001b[39mzipcode.csv\u001b[39;49m\u001b[39m'\u001b[39;49m) \u001b[39mas\u001b[39;00m res:\n\u001b[1;32m      7\u001b[0m         rows\u001b[39m=\u001b[39mcsv\u001b[39m.\u001b[39mDictReader(res)\n\u001b[1;32m      9\u001b[0m         \u001b[39mfor\u001b[39;00m row \u001b[39min\u001b[39;00m rows:\n",
      "File \u001b[0;32m/usr/lib/python3.9/importlib/resources.py:121\u001b[0m, in \u001b[0;36mopen_text\u001b[0;34m(package, resource, encoding, errors)\u001b[0m\n\u001b[1;32m    115\u001b[0m \u001b[39mdef\u001b[39;00m \u001b[39mopen_text\u001b[39m(package: Package,\n\u001b[1;32m    116\u001b[0m               resource: Resource,\n\u001b[1;32m    117\u001b[0m               encoding: \u001b[39mstr\u001b[39m \u001b[39m=\u001b[39m \u001b[39m'\u001b[39m\u001b[39mutf-8\u001b[39m\u001b[39m'\u001b[39m,\n\u001b[1;32m    118\u001b[0m               errors: \u001b[39mstr\u001b[39m \u001b[39m=\u001b[39m \u001b[39m'\u001b[39m\u001b[39mstrict\u001b[39m\u001b[39m'\u001b[39m) \u001b[39m-\u001b[39m\u001b[39m>\u001b[39m TextIO:\n\u001b[1;32m    119\u001b[0m     \u001b[39m\"\"\"Return a file-like object opened for text reading of the resource.\"\"\"\u001b[39;00m\n\u001b[1;32m    120\u001b[0m     \u001b[39mreturn\u001b[39;00m TextIOWrapper(\n\u001b[0;32m--> 121\u001b[0m         open_binary(package, resource), encoding\u001b[39m=\u001b[39mencoding, errors\u001b[39m=\u001b[39merrors)\n",
      "File \u001b[0;32m/usr/lib/python3.9/importlib/resources.py:111\u001b[0m, in \u001b[0;36mopen_binary\u001b[0;34m(package, resource)\u001b[0m\n\u001b[1;32m    108\u001b[0m     package_name \u001b[39m=\u001b[39m package\u001b[39m.\u001b[39m__spec__\u001b[39m.\u001b[39mname\n\u001b[1;32m    109\u001b[0m     message \u001b[39m=\u001b[39m \u001b[39m'\u001b[39m\u001b[39m{!r}\u001b[39;00m\u001b[39m resource not found in \u001b[39m\u001b[39m{!r}\u001b[39;00m\u001b[39m'\u001b[39m\u001b[39m.\u001b[39mformat(\n\u001b[1;32m    110\u001b[0m         resource, package_name)\n\u001b[0;32m--> 111\u001b[0m     \u001b[39mraise\u001b[39;00m \u001b[39mFileNotFoundError\u001b[39;00m(message)\n\u001b[1;32m    112\u001b[0m \u001b[39mreturn\u001b[39;00m BytesIO(data)\n",
      "\u001b[0;31mFileNotFoundError\u001b[0m: 'zipcode.csv' resource not found in 'demoresouces.data'"
     ]
    }
   ],
   "source": [
    "import csv\n",
    "from importlib import resources\n",
    "class NotFoundZipcode(Exception):...\n",
    "\n",
    "def get_zipcode(city:str)->str:\n",
    "    with resources.open_text('demoresouces.data','zipcode.csv') as res:\n",
    "        rows=csv.DictReader(res)\n",
    "\n",
    "        for row in rows:\n",
    "            if row['city']==city:\n",
    "                return row['zipcode']\n",
    "        raise NotFoundZipcode(f'{city}的邮政编码不存在!')\n",
    "\n",
    "print(get_zipcode(\"北京\"))\n",
    "print(get_zipcode(\"上海\"))\n",
    "print(get_zipcode(\"大连\"))\n",
    "#　测试　ｊｕｐｙｔｅｒ　中不可用　，直接ｐｙｔｈｏｎ　中可用"
   ]
  }
 ],
 "metadata": {
  "kernelspec": {
   "display_name": "venv",
   "language": "python",
   "name": "python3"
  },
  "language_info": {
   "codemirror_mode": {
    "name": "ipython",
    "version": 3
   },
   "file_extension": ".py",
   "mimetype": "text/x-python",
   "name": "python",
   "nbconvert_exporter": "python",
   "pygments_lexer": "ipython3",
   "version": "3.9.2"
  },
  "orig_nbformat": 4,
  "vscode": {
   "interpreter": {
    "hash": "d786a9ff7ce8e0f87fef5a223ed26f011c7b838c1c78a36847c51ecfba3435b7"
   }
  }
 },
 "nbformat": 4,
 "nbformat_minor": 2
}
