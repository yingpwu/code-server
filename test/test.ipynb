{
 "cells": [
  {
   "cell_type": "code",
   "execution_count": 6,
   "metadata": {},
   "outputs": [
    {
     "data": {
      "text/plain": [
       "'1000.0'"
      ]
     },
     "execution_count": 6,
     "metadata": {},
     "output_type": "execute_result"
    }
   ],
   "source": [
    "a=1000\n",
    "f'{a:.1f}'"
   ]
  },
  {
   "cell_type": "code",
   "execution_count": 1,
   "metadata": {},
   "outputs": [
    {
     "ename": "SyntaxError",
     "evalue": "invalid syntax (3642150218.py, line 1)",
     "output_type": "error",
     "traceback": [
      "\u001b[0;36m  Input \u001b[0;32mIn [1]\u001b[0;36m\u001b[0m\n\u001b[0;31m    all_light_status = {key:value for key, value in [\"yellow\", \"red\", \"green\"],[0, 1]}\u001b[0m\n\u001b[0m                                                                              ^\u001b[0m\n\u001b[0;31mSyntaxError\u001b[0m\u001b[0;31m:\u001b[0m invalid syntax\n"
     ]
    }
   ],
   "source": [
    "all_light_status = {key:value for key, value in [\"yellow\", \"red\", \"green\"]}\n"
   ]
  },
  {
   "cell_type": "code",
   "execution_count": 3,
   "metadata": {},
   "outputs": [
    {
     "data": {
      "text/plain": [
       "[]"
      ]
     },
     "execution_count": 3,
     "metadata": {},
     "output_type": "execute_result"
    }
   ],
   "source": [
    "list1 = [\"a\", \"b\", \"c\"]\n",
    "picked = list1*0\n",
    "picked"
   ]
  },
  {
   "cell_type": "code",
   "execution_count": 12,
   "metadata": {},
   "outputs": [
    {
     "name": "stdout",
     "output_type": "stream",
     "text": [
      "[['a', 'b', 'c'], ['a', 'c', 'b'], ['b', 'a', 'c'], ['b', 'c', 'a'], ['c', 'a', 'b'], ['c', 'b', 'a']]\n"
     ]
    }
   ],
   "source": [
    "list1 = [\"a\", \"b\", \"c\"]\n",
    "# 获取排列组合\n",
    "\n",
    "def get_list(list):\n",
    "    picked = [0 for _ in range(len(list))]\n",
    "\n",
    "    def dfs(path, depth, result,picked):\n",
    "      for i in range(len(list)):\n",
    "            if depth == len(list):\n",
    "                result.append(path[:])\n",
    "                return\n",
    "            if picked[i] == 0:\n",
    "                path.append(list[i])\n",
    "                picked[i] = 1\n",
    "                dfs(path, depth+1, result,picked)\n",
    "                picked[i] = 0\n",
    "                path.pop()\n",
    "    result = []\n",
    "    dfs([], 0, result,picked)\n",
    "    return(result)\n",
    "\n",
    "\n",
    "print(get_list(list1))\n"
   ]
  },
  {
   "cell_type": "code",
   "execution_count": 18,
   "metadata": {},
   "outputs": [
    {
     "name": "stdout",
     "output_type": "stream",
     "text": [
      "[[0, 0, 0], [0, 0, 1], [0, 1, 0], [0, 1, 1], [1, 0, 0], [1, 0, 1], [1, 1, 0], [1, 1, 1]]\n"
     ]
    }
   ],
   "source": [
    "from itertools import product\n",
    "s=[list(x) for x in product(range(2),repeat=3)]\n",
    "print(s)"
   ]
  },
  {
   "cell_type": "code",
   "execution_count": 13,
   "metadata": {},
   "outputs": [
    {
     "name": "stdout",
     "output_type": "stream",
     "text": [
      "[[1, 2, 3], [1, 3, 2], [2, 1, 3], [2, 3, 1], [3, 1, 2], [3, 2, 1]]\n"
     ]
    }
   ],
   "source": [
    "import string\n",
    "num_list = [1, 2, 3]\n",
    "length = len(num_list)\n",
    "var = tuple([string.ascii_lowercase[i] for i in range(length)])  # 生成字母代表的变量序列\n",
    "temp = \"[\"+','.join(var)+\"]\"\n",
    "evalstring = \"[\"+temp+''.join(['for %s in num_list ' %\n",
    "                              i for i in ''.join(var)])+'if len(set(%s))==3' % temp+\"]\"\n",
    "result = eval(evalstring)\n",
    "\n",
    "print(result)\n"
   ]
  },
  {
   "cell_type": "code",
   "execution_count": 1,
   "metadata": {},
   "outputs": [
    {
     "name": "stdout",
     "output_type": "stream",
     "text": [
      "1\n",
      "318931.3827230543\n"
     ]
    }
   ],
   "source": [
    "from math import log,e\n",
    "# r_now = r_25*e**(B*(1/(273.15+t_now)-1/(273.15+25)))\n",
    "# r_now = 10000*(2.71828183**(3950*(1/(273.15+25)-1/(273.15+25))))\n",
    "# print(r_now)\n",
    "\n",
    "r_25=100000\n",
    "B=3950\n",
    "# r1_now=60000\n",
    "# t1_now = 1/((log(r1_now,e)-log(r_25,e))/B+1/(273.15+25))-273.15\n",
    "# print(t1_now)\n",
    "# print(r1_now)\n",
    "\n",
    "t2_now=1\n",
    "r2_now=r_25*e**(B*(1/(273.15+t2_now)-1/(273.15+25)))\n",
    "\n",
    "print(t2_now)\n",
    "print(r2_now)\n",
    "# print(xx)\n",
    "\n"
   ]
  },
  {
   "cell_type": "code",
   "execution_count": 2,
   "metadata": {},
   "outputs": [],
   "source": [
    "xx=223\n",
    "aa={1:11,2:22,3:33}\n",
    "if xx in aa.values():\n",
    "    print(\"true\")"
   ]
  },
  {
   "cell_type": "code",
   "execution_count": 7,
   "metadata": {},
   "outputs": [
    {
     "data": {
      "text/plain": [
       "1"
      ]
     },
     "execution_count": 7,
     "metadata": {},
     "output_type": "execute_result"
    }
   ],
   "source": [
    "from random import randint\n",
    "\n",
    "\n",
    "randint(1,2)"
   ]
  },
  {
   "cell_type": "code",
   "execution_count": 19,
   "metadata": {},
   "outputs": [
    {
     "name": "stdout",
     "output_type": "stream",
     "text": [
      "{'0': 0, '1': 11, '2': 22, '3': 33}\n",
      "0 0\n",
      "1 11\n",
      "2 22\n",
      "3 33\n"
     ]
    }
   ],
   "source": [
    "aa = {\"1\": 11, \"2\": 22, \"3\": 33}\n",
    "bb={\"0\":0}\n",
    "bb.update(aa)\n",
    "print(bb)\n",
    "for k,v in bb.items():\n",
    "    print(k,v)"
   ]
  },
  {
   "cell_type": "code",
   "execution_count": 3,
   "metadata": {},
   "outputs": [
    {
     "data": {
      "text/plain": [
       "98"
      ]
     },
     "execution_count": 3,
     "metadata": {},
     "output_type": "execute_result"
    }
   ],
   "source": [
    "ord(\"a\")\n",
    "ord(\"b\")"
   ]
  },
  {
   "cell_type": "code",
   "execution_count": 22,
   "metadata": {},
   "outputs": [
    {
     "name": "stdout",
     "output_type": "stream",
     "text": [
      "CPU times: user 39 µs, sys: 0 ns, total: 39 µs\n",
      "Wall time: 42.9 µs\n"
     ]
    },
    {
     "data": {
      "text/plain": [
       "3"
      ]
     },
     "execution_count": 22,
     "metadata": {},
     "output_type": "execute_result"
    }
   ],
   "source": [
    "\n"
   ]
  }
 ],
 "metadata": {
  "kernelspec": {
   "display_name": "Python 3.9.2 ('jupytervenv': venv)",
   "language": "python",
   "name": "python3"
  },
  "language_info": {
   "codemirror_mode": {
    "name": "ipython",
    "version": 3
   },
   "file_extension": ".py",
   "mimetype": "text/x-python",
   "name": "python",
   "nbconvert_exporter": "python",
   "pygments_lexer": "ipython3",
   "version": "3.9.2"
  },
  "orig_nbformat": 4,
  "vscode": {
   "interpreter": {
    "hash": "2524cb38d6a39d30753f11303032d028d65eebf8bc647543180e31953f541e76"
   }
  }
 },
 "nbformat": 4,
 "nbformat_minor": 2
}
