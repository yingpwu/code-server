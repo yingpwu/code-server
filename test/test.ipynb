{
 "cells": [
  {
   "cell_type": "code",
   "execution_count": 6,
   "metadata": {},
   "outputs": [
    {
     "data": {
      "text/plain": [
       "'1000.0'"
      ]
     },
     "execution_count": 6,
     "metadata": {},
     "output_type": "execute_result"
    }
   ],
   "source": [
    "a=1000\n",
    "f'{a:.1f}'"
   ]
  },
  {
   "cell_type": "code",
   "execution_count": 1,
   "metadata": {},
   "outputs": [
    {
     "ename": "SyntaxError",
     "evalue": "invalid syntax (3642150218.py, line 1)",
     "output_type": "error",
     "traceback": [
      "\u001b[0;36m  Input \u001b[0;32mIn [1]\u001b[0;36m\u001b[0m\n\u001b[0;31m    all_light_status = {key:value for key, value in [\"yellow\", \"red\", \"green\"],[0, 1]}\u001b[0m\n\u001b[0m                                                                              ^\u001b[0m\n\u001b[0;31mSyntaxError\u001b[0m\u001b[0;31m:\u001b[0m invalid syntax\n"
     ]
    }
   ],
   "source": [
    "all_light_status = {key:value for key, value in [\"yellow\", \"red\", \"green\"]}\n"
   ]
  },
  {
   "cell_type": "code",
   "execution_count": 3,
   "metadata": {},
   "outputs": [
    {
     "data": {
      "text/plain": [
       "[]"
      ]
     },
     "execution_count": 3,
     "metadata": {},
     "output_type": "execute_result"
    }
   ],
   "source": [
    "list1 = [\"a\", \"b\", \"c\"]\n",
    "picked = list1*0\n",
    "picked"
   ]
  },
  {
   "cell_type": "code",
   "execution_count": 12,
   "metadata": {},
   "outputs": [
    {
     "name": "stdout",
     "output_type": "stream",
     "text": [
      "[['a', 'b', 'c'], ['a', 'c', 'b'], ['b', 'a', 'c'], ['b', 'c', 'a'], ['c', 'a', 'b'], ['c', 'b', 'a']]\n"
     ]
    }
   ],
   "source": [
    "list1 = [\"a\", \"b\", \"c\"]\n",
    "# 获取排列组合\n",
    "\n",
    "def get_list(list):\n",
    "    picked = [0 for _ in range(len(list))]\n",
    "\n",
    "    def dfs(path, depth, result,picked):\n",
    "      for i in range(len(list)):\n",
    "            if depth == len(list):\n",
    "                result.append(path[:])\n",
    "                return\n",
    "            if picked[i] == 0:\n",
    "                path.append(list[i])\n",
    "                picked[i] = 1\n",
    "                dfs(path, depth+1, result,picked)\n",
    "                picked[i] = 0\n",
    "                path.pop()\n",
    "    result = []\n",
    "    dfs([], 0, result,picked)\n",
    "    return(result)\n",
    "\n",
    "\n",
    "print(get_list(list1))\n"
   ]
  },
  {
   "cell_type": "code",
   "execution_count": 18,
   "metadata": {},
   "outputs": [
    {
     "name": "stdout",
     "output_type": "stream",
     "text": [
      "[[0, 0, 0], [0, 0, 1], [0, 1, 0], [0, 1, 1], [1, 0, 0], [1, 0, 1], [1, 1, 0], [1, 1, 1]]\n"
     ]
    }
   ],
   "source": [
    "from itertools import product\n",
    "s=[list(x) for x in product(range(2),repeat=3)]\n",
    "print(s)"
   ]
  },
  {
   "cell_type": "code",
   "execution_count": 13,
   "metadata": {},
   "outputs": [
    {
     "name": "stdout",
     "output_type": "stream",
     "text": [
      "[[1, 2, 3], [1, 3, 2], [2, 1, 3], [2, 3, 1], [3, 1, 2], [3, 2, 1]]\n"
     ]
    }
   ],
   "source": [
    "import string\n",
    "num_list = [1, 2, 3]\n",
    "length = len(num_list)\n",
    "var = tuple([string.ascii_lowercase[i] for i in range(length)])  # 生成字母代表的变量序列\n",
    "temp = \"[\"+','.join(var)+\"]\"\n",
    "evalstring = \"[\"+temp+''.join(['for %s in num_list ' %\n",
    "                              i for i in ''.join(var)])+'if len(set(%s))==3' % temp+\"]\"\n",
    "result = eval(evalstring)\n",
    "\n",
    "print(result)\n"
   ]
  },
  {
   "cell_type": "code",
   "execution_count": 1,
   "metadata": {},
   "outputs": [
    {
     "name": "stdout",
     "output_type": "stream",
     "text": [
      "1\n",
      "318931.3827230543\n"
     ]
    }
   ],
   "source": [
    "from math import log,e\n",
    "# r_now = r_25*e**(B*(1/(273.15+t_now)-1/(273.15+25)))\n",
    "# r_now = 10000*(2.71828183**(3950*(1/(273.15+25)-1/(273.15+25))))\n",
    "# print(r_now)\n",
    "\n",
    "r_25=100000\n",
    "B=3950\n",
    "# r1_now=60000\n",
    "# t1_now = 1/((log(r1_now,e)-log(r_25,e))/B+1/(273.15+25))-273.15\n",
    "# print(t1_now)\n",
    "# print(r1_now)\n",
    "\n",
    "t2_now=1\n",
    "r2_now=r_25*e**(B*(1/(273.15+t2_now)-1/(273.15+25)))\n",
    "\n",
    "print(t2_now)\n",
    "print(r2_now)\n",
    "# print(xx)\n",
    "\n"
   ]
  },
  {
   "cell_type": "code",
   "execution_count": 2,
   "metadata": {},
   "outputs": [],
   "source": [
    "xx=223\n",
    "aa={1:11,2:22,3:33}\n",
    "if xx in aa.values():\n",
    "    print(\"true\")"
   ]
  },
  {
   "cell_type": "code",
   "execution_count": 7,
   "metadata": {},
   "outputs": [
    {
     "data": {
      "text/plain": [
       "1"
      ]
     },
     "execution_count": 7,
     "metadata": {},
     "output_type": "execute_result"
    }
   ],
   "source": [
    "from random import randint\n",
    "\n",
    "\n",
    "randint(1,2)"
   ]
  },
  {
   "cell_type": "code",
   "execution_count": 19,
   "metadata": {},
   "outputs": [
    {
     "name": "stdout",
     "output_type": "stream",
     "text": [
      "{'0': 0, '1': 11, '2': 22, '3': 33}\n",
      "0 0\n",
      "1 11\n",
      "2 22\n",
      "3 33\n"
     ]
    }
   ],
   "source": [
    "aa = {\"1\": 11, \"2\": 22, \"3\": 33}\n",
    "bb={\"0\":0}\n",
    "bb.update(aa)\n",
    "print(bb)\n",
    "for k,v in bb.items():\n",
    "    print(k,v)"
   ]
  },
  {
   "cell_type": "code",
   "execution_count": 3,
   "metadata": {},
   "outputs": [
    {
     "data": {
      "text/plain": [
       "98"
      ]
     },
     "execution_count": 3,
     "metadata": {},
     "output_type": "execute_result"
    }
   ],
   "source": [
    "ord(\"a\")\n",
    "ord(\"b\")"
   ]
  },
  {
   "cell_type": "code",
   "execution_count": 1,
   "metadata": {},
   "outputs": [
    {
     "ename": "FileNotFoundError",
     "evalue": "[Errno 2] No such file or directory: 'index.html'",
     "output_type": "error",
     "traceback": [
      "\u001b[0;31m---------------------------------------------------------------------------\u001b[0m",
      "\u001b[0;31mFileNotFoundError\u001b[0m                         Traceback (most recent call last)",
      "Cell \u001b[0;32mIn [1], line 1\u001b[0m\n\u001b[0;32m----> 1\u001b[0m \u001b[39mwith\u001b[39;00m \u001b[39mopen\u001b[39;49m(\u001b[39m'\u001b[39;49m\u001b[39mindex.html\u001b[39;49m\u001b[39m'\u001b[39;49m,encoding\u001b[39m=\u001b[39;49m\u001b[39m'\u001b[39;49m\u001b[39mutf-8\u001b[39;49m\u001b[39m'\u001b[39;49m) \u001b[39mas\u001b[39;00m f:\n\u001b[1;32m      2\u001b[0m     text\u001b[39m=\u001b[39mf\u001b[39m.\u001b[39mread()\n\u001b[1;32m      3\u001b[0m \u001b[39mprint\u001b[39m(text)\n",
      "File \u001b[0;32m~/project/python/venv/lib/python3.9/site-packages/IPython/core/interactiveshell.py:282\u001b[0m, in \u001b[0;36m_modified_open\u001b[0;34m(file, *args, **kwargs)\u001b[0m\n\u001b[1;32m    275\u001b[0m \u001b[39mif\u001b[39;00m file \u001b[39min\u001b[39;00m {\u001b[39m0\u001b[39m, \u001b[39m1\u001b[39m, \u001b[39m2\u001b[39m}:\n\u001b[1;32m    276\u001b[0m     \u001b[39mraise\u001b[39;00m \u001b[39mValueError\u001b[39;00m(\n\u001b[1;32m    277\u001b[0m         \u001b[39mf\u001b[39m\u001b[39m\"\u001b[39m\u001b[39mIPython won\u001b[39m\u001b[39m'\u001b[39m\u001b[39mt let you open fd=\u001b[39m\u001b[39m{\u001b[39;00mfile\u001b[39m}\u001b[39;00m\u001b[39m by default \u001b[39m\u001b[39m\"\u001b[39m\n\u001b[1;32m    278\u001b[0m         \u001b[39m\"\u001b[39m\u001b[39mas it is likely to crash IPython. If you know what you are doing, \u001b[39m\u001b[39m\"\u001b[39m\n\u001b[1;32m    279\u001b[0m         \u001b[39m\"\u001b[39m\u001b[39myou can use builtins\u001b[39m\u001b[39m'\u001b[39m\u001b[39m open.\u001b[39m\u001b[39m\"\u001b[39m\n\u001b[1;32m    280\u001b[0m     )\n\u001b[0;32m--> 282\u001b[0m \u001b[39mreturn\u001b[39;00m io_open(file, \u001b[39m*\u001b[39;49margs, \u001b[39m*\u001b[39;49m\u001b[39m*\u001b[39;49mkwargs)\n",
      "\u001b[0;31mFileNotFoundError\u001b[0m: [Errno 2] No such file or directory: 'index.html'"
     ]
    }
   ],
   "source": [
    "\n",
    "with open('index.html',encoding='utf-8') as f:\n",
    "    text=f.read()\n",
    "print(text)"
   ]
  }
 ],
 "metadata": {
  "kernelspec": {
   "display_name": "venv",
   "language": "python",
   "name": "python3"
  },
  "language_info": {
   "codemirror_mode": {
    "name": "ipython",
    "version": 3
   },
   "file_extension": ".py",
   "mimetype": "text/x-python",
   "name": "python",
   "nbconvert_exporter": "python",
   "pygments_lexer": "ipython3",
   "version": "3.9.2"
  },
  "orig_nbformat": 4,
  "vscode": {
   "interpreter": {
    "hash": "d786a9ff7ce8e0f87fef5a223ed26f011c7b838c1c78a36847c51ecfba3435b7"
   }
  }
 },
 "nbformat": 4,
 "nbformat_minor": 2
}
